{
 "cells": [
  {
   "cell_type": "code",
   "execution_count": 11,
   "id": "617327b0-46a8-4b63-85a0-4b73f3f615a3",
   "metadata": {},
   "outputs": [
    {
     "name": "stdin",
     "output_type": "stream",
     "text": [
      "Enter a value 34 67\n"
     ]
    },
    {
     "name": "stdout",
     "output_type": "stream",
     "text": [
      "[10.64581294844754, 14.944341180973263]\n"
     ]
    }
   ],
   "source": [
    "#calculates and prints the value according to the given formula with fixed values of C,H and D as a input variable\n",
    "import math\n",
    "C=50\n",
    "H=30\n",
    "N=input(\"Enter a value\")\n",
    "D=N.split()\n",
    "output=[]\n",
    "for i in D:\n",
    "  d=int(i)\n",
    "  Q=math.sqrt((2 * C * d)/H)\n",
    "  output.append(Q)\n",
    "print(output)\n",
    "    "
   ]
  },
  {
   "cell_type": "code",
   "execution_count": null,
   "id": "92eb8368-66ec-47b6-a18c-d8730c321b28",
   "metadata": {},
   "outputs": [],
   "source": []
  },
  {
   "cell_type": "code",
   "execution_count": null,
   "id": "7d279a64-6547-42eb-9809-8d224844160c",
   "metadata": {},
   "outputs": [],
   "source": []
  }
 ],
 "metadata": {
  "kernelspec": {
   "display_name": "Python 3 (ipykernel)",
   "language": "python",
   "name": "python3"
  },
  "language_info": {
   "codemirror_mode": {
    "name": "ipython",
    "version": 3
   },
   "file_extension": ".py",
   "mimetype": "text/x-python",
   "name": "python",
   "nbconvert_exporter": "python",
   "pygments_lexer": "ipython3",
   "version": "3.12.5"
  }
 },
 "nbformat": 4,
 "nbformat_minor": 5
}
