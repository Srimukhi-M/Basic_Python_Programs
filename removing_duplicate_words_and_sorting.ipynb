{
 "cells": [
  {
   "cell_type": "code",
   "execution_count": 28,
   "id": "a2aedb86-68b9-4f59-8db8-28992149a6d3",
   "metadata": {},
   "outputs": [
    {
     "name": "stdin",
     "output_type": "stream",
     "text": [
      "Enter text hello world and practice makes perfect and hello world again\n"
     ]
    },
    {
     "name": "stdout",
     "output_type": "stream",
     "text": [
      "['again', 'and', 'hello', 'makes', 'perfect', 'practice', 'world']\n"
     ]
    }
   ],
   "source": [
    "#program that accepts a sequence of whitespace separated words as input and prints the words after removing all duplicate words\n",
    "text=input(\"Enter text\")\n",
    "separated_text=text.split()\n",
    "Convert_text=(set(separated_text))\n",
    "#sorting them alphanumerically\n",
    "sorted_text=sorted(Convert_text)\n",
    "print(sorted_text)"
   ]
  },
  {
   "cell_type": "code",
   "execution_count": null,
   "id": "f9ca3df9-d6aa-4e17-bde8-aabf255afb38",
   "metadata": {},
   "outputs": [],
   "source": []
  },
  {
   "cell_type": "code",
   "execution_count": null,
   "id": "b0323b1b-11d2-4566-82b4-8380d7cafee8",
   "metadata": {},
   "outputs": [],
   "source": []
  }
 ],
 "metadata": {
  "kernelspec": {
   "display_name": "Python 3 (ipykernel)",
   "language": "python",
   "name": "python3"
  },
  "language_info": {
   "codemirror_mode": {
    "name": "ipython",
    "version": 3
   },
   "file_extension": ".py",
   "mimetype": "text/x-python",
   "name": "python",
   "nbconvert_exporter": "python",
   "pygments_lexer": "ipython3",
   "version": "3.12.5"
  }
 },
 "nbformat": 4,
 "nbformat_minor": 5
}
