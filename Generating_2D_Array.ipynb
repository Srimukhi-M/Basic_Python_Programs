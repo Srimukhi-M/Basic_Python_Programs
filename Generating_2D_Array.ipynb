{
 "cells": [
  {
   "cell_type": "code",
   "execution_count": 21,
   "id": "ea7a57a9-f2ef-4961-8f07-8ebbc2c75a82",
   "metadata": {},
   "outputs": [
    {
     "name": "stdin",
     "output_type": "stream",
     "text": [
      "Enter X: 3\n",
      "Enter Y: 5\n"
     ]
    },
    {
     "name": "stdout",
     "output_type": "stream",
     "text": [
      "[[0, 0, 0, 0, 0], [0, 1, 2, 3, 4], [0, 2, 4, 6, 8]]\n"
     ]
    }
   ],
   "source": [
    "#X,Y as input and generates a 2-dimensional array & the element value in the i-th row and j-th column of the array should be i*j\n",
    "x=int(input(\"Enter X:\"))\n",
    "y=int(input(\"Enter Y:\"))\n",
    "output=[]\n",
    "for i in range(0,x):\n",
    "    row=[]\n",
    "    for j in range(0,y):\n",
    "        row.append(i*j)\n",
    "    output.append(row)\n",
    "print(output)\n"
   ]
  },
  {
   "cell_type": "code",
   "execution_count": null,
   "id": "8a4a3963-b250-4f83-aa57-0b13b99d4083",
   "metadata": {},
   "outputs": [],
   "source": []
  }
 ],
 "metadata": {
  "kernelspec": {
   "display_name": "Python 3 (ipykernel)",
   "language": "python",
   "name": "python3"
  },
  "language_info": {
   "codemirror_mode": {
    "name": "ipython",
    "version": 3
   },
   "file_extension": ".py",
   "mimetype": "text/x-python",
   "name": "python",
   "nbconvert_exporter": "python",
   "pygments_lexer": "ipython3",
   "version": "3.12.5"
  }
 },
 "nbformat": 4,
 "nbformat_minor": 5
}
