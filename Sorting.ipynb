{
 "cells": [
  {
   "cell_type": "code",
   "execution_count": null,
   "id": "08e4d9eb-77bf-4937-bcbe-5cd08b4562f5",
   "metadata": {},
   "outputs": [],
   "source": [
    "#program that accepts a comma separated sequence of words as input and prints the words in a comma-separated sequence after sorting\n",
    "\n",
    "A=input(\"Enter sequence of words\")\n",
    "B=A.split(\",\")\n",
    "B.sort()\n",
    "print(B)"
   ]
  },
  {
   "cell_type": "code",
   "execution_count": null,
   "id": "2254df52-c67d-4611-a5da-84aa7e3158f6",
   "metadata": {},
   "outputs": [],
   "source": []
  }
 ],
 "metadata": {
  "kernelspec": {
   "display_name": "Python 3 (ipykernel)",
   "language": "python",
   "name": "python3"
  },
  "language_info": {
   "codemirror_mode": {
    "name": "ipython",
    "version": 3
   },
   "file_extension": ".py",
   "mimetype": "text/x-python",
   "name": "python",
   "nbconvert_exporter": "python",
   "pygments_lexer": "ipython3",
   "version": "3.12.5"
  }
 },
 "nbformat": 4,
 "nbformat_minor": 5
}
