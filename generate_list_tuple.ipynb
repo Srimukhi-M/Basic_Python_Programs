{
 "cells": [
  {
   "cell_type": "code",
   "execution_count": 18,
   "id": "82daeeef-b188-4805-aa1a-e551e23ef0a6",
   "metadata": {},
   "outputs": [
    {
     "name": "stdin",
     "output_type": "stream",
     "text": [
      "enter terms 23 45 67 88\n"
     ]
    },
    {
     "name": "stdout",
     "output_type": "stream",
     "text": [
      "list ['23', '45', '67', '88']\n",
      "tuple ('23', '45', '67', '88')\n"
     ]
    }
   ],
   "source": [
    "#generate a list and a tuple which contains every number\n",
    "\n",
    "n=input(\"enter terms\")\n",
    "a=n.split()\n",
    "print(\"list\",list(a))\n",
    "print(\"tuple\",tuple(a))"
   ]
  },
  {
   "cell_type": "code",
   "execution_count": null,
   "id": "c5561a33-40b8-4d81-8533-a0d02fcf786f",
   "metadata": {},
   "outputs": [],
   "source": []
  }
 ],
 "metadata": {
  "kernelspec": {
   "display_name": "Python 3 (ipykernel)",
   "language": "python",
   "name": "python3"
  },
  "language_info": {
   "codemirror_mode": {
    "name": "ipython",
    "version": 3
   },
   "file_extension": ".py",
   "mimetype": "text/x-python",
   "name": "python",
   "nbconvert_exporter": "python",
   "pygments_lexer": "ipython3",
   "version": "3.12.5"
  }
 },
 "nbformat": 4,
 "nbformat_minor": 5
}
