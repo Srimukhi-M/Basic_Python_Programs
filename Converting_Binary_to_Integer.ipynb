{
 "cells": [
  {
   "cell_type": "code",
   "execution_count": 22,
   "id": "d1e57c0c-aaa3-46b4-a537-c1f9631b36e7",
   "metadata": {},
   "outputs": [
    {
     "name": "stdin",
     "output_type": "stream",
     "text": [
      "Enter binary value 1000 0111\n"
     ]
    },
    {
     "name": "stdout",
     "output_type": "stream",
     "text": [
      "['1000', '0111']\n",
      "8\n",
      "Not divisible by 5 0b1000\n",
      "7\n",
      "Not divisible by 5 0b111\n"
     ]
    }
   ],
   "source": [
    "#program which accepts a sequence of comma separated 4 digit binary numbers as its input and then check whether they are divisible by 5 or not\n",
    "binary=input(\"Enter binary value\")\n",
    "binary_values = binary.split()\n",
    "print(binary_values)\n",
    "integer_value=[]\n",
    "for binary_value in binary_values:\n",
    "  values=int(binary_value, 2)\n",
    "  integer_value.append(values)\n",
    "for i in integer_value:\n",
    "  print(i)\n",
    "  if i % 5 == 0:\n",
    "      print(\"binary value divided by 5\",bin(i))\n",
    "  else:\n",
    "      print(\"Not divisible by 5\",bin(i))"
   ]
  },
  {
   "cell_type": "code",
   "execution_count": null,
   "id": "eaa857f6-d3ba-466c-9ef3-23e62c2f0854",
   "metadata": {},
   "outputs": [],
   "source": []
  }
 ],
 "metadata": {
  "kernelspec": {
   "display_name": "Python 3 (ipykernel)",
   "language": "python",
   "name": "python3"
  },
  "language_info": {
   "codemirror_mode": {
    "name": "ipython",
    "version": 3
   },
   "file_extension": ".py",
   "mimetype": "text/x-python",
   "name": "python",
   "nbconvert_exporter": "python",
   "pygments_lexer": "ipython3",
   "version": "3.12.5"
  }
 },
 "nbformat": 4,
 "nbformat_minor": 5
}
