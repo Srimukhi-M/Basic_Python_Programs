{
 "cells": [
  {
   "cell_type": "code",
   "execution_count": 3,
   "id": "e71c163d-2d3b-499b-b3f3-ff198d1ee5ec",
   "metadata": {},
   "outputs": [
    {
     "name": "stdout",
     "output_type": "stream",
     "text": [
      "Largest value is 100\n"
     ]
    }
   ],
   "source": [
    "#finding largest number in a list\n",
    "values=[60,75,80,90,100]\n",
    "max_value = values[0]\n",
    "for i in values:\n",
    "    if i > max_value:\n",
    "        max_value=i\n",
    "print(\"Largest value is\",max_value)"
   ]
  },
  {
   "cell_type": "code",
   "execution_count": null,
   "id": "957bcdd9-7564-4b9d-9f73-cda1b52cd4af",
   "metadata": {},
   "outputs": [],
   "source": []
  },
  {
   "cell_type": "code",
   "execution_count": null,
   "id": "de7fc403-5d53-43d4-a97e-80860162ccdd",
   "metadata": {},
   "outputs": [],
   "source": []
  }
 ],
 "metadata": {
  "kernelspec": {
   "display_name": "Python 3 (ipykernel)",
   "language": "python",
   "name": "python3"
  },
  "language_info": {
   "codemirror_mode": {
    "name": "ipython",
    "version": 3
   },
   "file_extension": ".py",
   "mimetype": "text/x-python",
   "name": "python",
   "nbconvert_exporter": "python",
   "pygments_lexer": "ipython3",
   "version": "3.12.5"
  }
 },
 "nbformat": 4,
 "nbformat_minor": 5
}
